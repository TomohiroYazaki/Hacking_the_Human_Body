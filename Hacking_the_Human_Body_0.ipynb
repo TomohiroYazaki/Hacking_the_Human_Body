{
  "cells": [
    {
      "cell_type": "markdown",
      "metadata": {
        "id": "view-in-github",
        "colab_type": "text"
      },
      "source": [
        "<a href=\"https://colab.research.google.com/github/TomohiroYazaki/Hacking_the_Human_Body/blob/main/Hacking_the_Human_Body_0.ipynb\" target=\"_parent\"><img src=\"https://colab.research.google.com/assets/colab-badge.svg\" alt=\"Open In Colab\"/></a>"
      ]
    },
    {
      "cell_type": "code",
      "execution_count": null,
      "metadata": {
        "id": "BLTcWl_AWJV1"
      },
      "outputs": [],
      "source": [
        "DRIVE_PATH = '/content/drive/MyDrive/Kaggle/202207_Hacking_the_Human_Body/Data/hubmap-organ-segmentation.zip'\n",
        "CURRENT_PATH = '/content/hubmap-organ-segmentation.zip'"
      ]
    },
    {
      "cell_type": "code",
      "execution_count": null,
      "metadata": {
        "id": "J_39x5hxVral"
      },
      "outputs": [],
      "source": [
        "!rm -f -r /content/OUTPUT\n",
        "!rm -f -r /content/OUTPUT/MODEL"
      ]
    },
    {
      "cell_type": "code",
      "execution_count": null,
      "metadata": {
        "id": "micucEVmV92z"
      },
      "outputs": [],
      "source": [
        "![ -r /content/DATA ] || mkdir DATA\n",
        "!mkdir OUTPUT\n",
        "!mkdir OUTPUT/MODEL"
      ]
    },
    {
      "cell_type": "code",
      "execution_count": null,
      "metadata": {
        "id": "HXeZIoW_Wb0h"
      },
      "outputs": [],
      "source": [
        "%%time\n",
        "![ -f /content/DATA/train.csv ] || cp $DRIVE_PATH $CURRENT_PATH\n",
        "![ -f $CURRENT_PATH ] && unzip -qq $CURRENT_PATH -d /content/DATA\n",
        "![ -f $CURRENT_PATH ] && rm $CURRENT_PATH"
      ]
    },
    {
      "cell_type": "code",
      "execution_count": null,
      "metadata": {
        "id": "c6jg3qu6WzSK"
      },
      "outputs": [],
      "source": [
        "!rm -f -r /content/sample_data"
      ]
    },
    {
      "cell_type": "code",
      "execution_count": null,
      "metadata": {
        "id": "u34PJPM9W1YS"
      },
      "outputs": [],
      "source": [
        "!pip install timm"
      ]
    },
    {
      "cell_type": "code",
      "execution_count": null,
      "metadata": {
        "id": "qnHS708YW5Rx"
      },
      "outputs": [],
      "source": [
        "!pip install --upgrade albumentations"
      ]
    },
    {
      "cell_type": "code",
      "execution_count": null,
      "metadata": {
        "id": "M8AwjuXlXF2m"
      },
      "outputs": [],
      "source": [
        "!pip install colorama"
      ]
    },
    {
      "cell_type": "code",
      "execution_count": null,
      "metadata": {
        "id": "Jir4dd5lXJD9"
      },
      "outputs": [],
      "source": [
        "!pip install -q segmentation_models_pytorch"
      ]
    },
    {
      "cell_type": "code",
      "execution_count": null,
      "metadata": {
        "id": "MJdFsNxpXMrS"
      },
      "outputs": [],
      "source": [
        "!pip install -qU wandb"
      ]
    },
    {
      "cell_type": "code",
      "execution_count": null,
      "metadata": {
        "id": "gcXqsO4aRfw1"
      },
      "outputs": [],
      "source": [
        "!pip install --upgrade opencv-python"
      ]
    },
    {
      "cell_type": "code",
      "source": [
        "!pip install staintools\n",
        "!pip install spams"
      ],
      "metadata": {
        "id": "fZOVSGKRf4vU"
      },
      "execution_count": null,
      "outputs": []
    },
    {
      "cell_type": "markdown",
      "metadata": {
        "id": "pqDabzPvfsOS"
      },
      "source": [
        "**---------- Import ----------**"
      ]
    },
    {
      "cell_type": "code",
      "execution_count": null,
      "metadata": {
        "id": "Wyu4T8LlXf2x"
      },
      "outputs": [],
      "source": [
        "import numpy as np\n",
        "import pandas as pd\n",
        "import random\n",
        "import os\n",
        "import gc\n",
        "from tqdm import tqdm\n",
        "import copy\n",
        "from collections import defaultdict\n",
        "import pickle\n",
        "\n",
        "import time\n",
        "from datetime import datetime\n",
        "import pytz\n",
        "\n",
        "# sklearn\n",
        "from sklearn.model_selection import StratifiedKFold, KFold, StratifiedGroupKFold\n",
        "\n",
        "# file\n",
        "import json\n",
        "import tifffile as tiff\n",
        "\n",
        "# visualization\n",
        "import matplotlib.pyplot as plt\n",
        "from IPython import display as ipd\n",
        "\n",
        "# PyTorch \n",
        "import torch\n",
        "import torch.nn as nn\n",
        "import torch.optim as optim\n",
        "from torch.optim import lr_scheduler\n",
        "from torch.utils.data import Dataset, DataLoader\n",
        "from torch.cuda import amp\n",
        "\n",
        "# Albumentations for augmentations\n",
        "import cv2\n",
        "import albumentations as A\n",
        "\n",
        "# For colored terminal text\n",
        "from colorama import Fore, Back, Style\n",
        "b_ = Fore.BLUE\n",
        "r_ = Fore.RED\n",
        "sr_ = Style.RESET_ALL\n",
        "g_ = Fore.GREEN\n",
        "br_ = Back.LIGHTRED_EX\n",
        "\n",
        "# staintools\n",
        "import staintools"
      ]
    },
    {
      "cell_type": "code",
      "execution_count": null,
      "metadata": {
        "id": "09HgzonnbS2N"
      },
      "outputs": [],
      "source": [
        "import wandb\n",
        "wandb_key = open('/content/drive/MyDrive/Kaggle/wandb_key', 'r')\n",
        "wandb.login(key=wandb_key.read())"
      ]
    },
    {
      "cell_type": "code",
      "execution_count": null,
      "metadata": {
        "id": "fd7xKZbXfxSa"
      },
      "outputs": [],
      "source": [
        "run_start_time = datetime.now(pytz.timezone('Asia/Tokyo')).strftime('%Y%m%d-%H:%M:%S')\n",
        "print(run_start_time)"
      ]
    },
    {
      "cell_type": "markdown",
      "metadata": {
        "id": "zvNFQ6NThOsO"
      },
      "source": [
        "**---------- Utilities ----------**"
      ]
    },
    {
      "cell_type": "code",
      "execution_count": null,
      "metadata": {
        "id": "9kjK1IwBhL5p"
      },
      "outputs": [],
      "source": [
        "train_bs = 16\n",
        "epochs = 100#20\n",
        "\n",
        "CFG = {\n",
        "    'seed'            : 21,\n",
        "    'debug'           : False, # set debug:False for Full Training\n",
        "    'in_channels'     : 3,\n",
        "    'backbone'        : 'timm-efficientnet-b0',#'timm-efficientnet-b6'\n",
        "    'encoder_weights' : 'imagenet',# use `imagenet` pre-trained weights for encoder initialization  \n",
        "    'train_bs'        : train_bs,\n",
        "    'valid_bs'        : train_bs*2,\n",
        "    'img_size'        : [224, 224],\n",
        "    'epochs'          : epochs,\n",
        "    'lr'              : 2e-3,\n",
        "    'scheduler'       : 'CosineAnnealingLR',#'CosineLRScheduler'\n",
        "    'min_lr'          : 1e-6,\n",
        "    'T_max'           : int(30000/train_bs*epochs)+50,\n",
        "    'T_0'             : 25,\n",
        "    'warmup_epochs'   : 0,\n",
        "    'wd'              : 1e-6,\n",
        "    'n_accumulate'    : max(1, 32//train_bs),\n",
        "    'n_fold'          : 5,#5\n",
        "    'learning_fold'   : [0],\n",
        "    'num_classes'     : 1,\n",
        "    'device'          : torch.device('cuda:0' if torch.cuda.is_available() else 'cpu'),\n",
        "    'model'           : 'Unet',\n",
        "    'organs'          : ['Prostate','spleen','lung','kidney','largeintestine'], #'Prostate','Spleen','Lung','Kidney','largeintestine']\n",
        "    'stain'           : True,\n",
        "}\n",
        "\n",
        "CFG['tags'] = ['baseline']\n",
        "\n",
        "if CFG['debug']:\n",
        "    CFG['epochs'] = 3\n",
        "    CFG['learning_fold'] = [0]"
      ]
    },
    {
      "cell_type": "code",
      "execution_count": null,
      "metadata": {
        "id": "MNyJKq8hjl-P"
      },
      "outputs": [],
      "source": [
        "def set_seed(seed = 21):\n",
        "    '''Sets the seed of the entire notebook so results are the same every time we run.\n",
        "    This is for REPRODUCIBILITY.'''\n",
        "    np.random.seed(seed)\n",
        "    random.seed(seed)\n",
        "    torch.manual_seed(seed)\n",
        "    torch.cuda.manual_seed(seed)\n",
        "    # When running on the CuDNN backend, two further options must be set\n",
        "    torch.backends.cudnn.deterministic = True\n",
        "    torch.backends.cudnn.benchmark = False\n",
        "    # Set a fixed value for the hash seed\n",
        "    os.environ['PYTHONHASHSEED'] = str(seed)\n",
        "    print('> SEEDING DONE')\n",
        "    \n",
        "set_seed(CFG['seed'])"
      ]
    },
    {
      "cell_type": "code",
      "execution_count": null,
      "metadata": {
        "id": "I9Iil3Exkvmt"
      },
      "outputs": [],
      "source": [
        "# https://www.kaggle.com/paulorzp/rle-functions-run-length-encode-decode\n",
        "def mask2rle(img):\n",
        "    '''\n",
        "    img: numpy array, 1 - mask, 0 - background\n",
        "    Returns run length as string formated\n",
        "    '''\n",
        "    pixels= img.T.flatten()\n",
        "    pixels = np.concatenate([[0], pixels, [0]])\n",
        "    runs = np.where(pixels[1:] != pixels[:-1])[0] + 1\n",
        "    runs[1::2] -= runs[::2]\n",
        "    return ' '.join(str(x) for x in runs)\n",
        " \n",
        "def rle2mask(mask_rle, shape=(1600,256)):\n",
        "    '''\n",
        "    mask_rle: run-length as string formated (start length)\n",
        "    shape: (width,height) of array to return \n",
        "    Returns numpy array, 1 - mask, 0 - background\n",
        "\n",
        "    '''\n",
        "    s = mask_rle.split()\n",
        "    starts, lengths = [np.asarray(x, dtype=int) for x in (s[0:][::2], s[1:][::2])]\n",
        "    starts -= 1\n",
        "    ends = starts + lengths\n",
        "    img = np.zeros(shape[0]*shape[1], dtype=np.uint8)\n",
        "    for lo, hi in zip(starts, ends):\n",
        "        img[lo:hi] = 1\n",
        "    return img.reshape(shape).T"
      ]
    },
    {
      "cell_type": "code",
      "execution_count": null,
      "metadata": {
        "id": "-aC0EiZUq2wi"
      },
      "outputs": [],
      "source": [
        "def load_img(id):\n",
        "    img = tiff.imread('/content/DATA/train_images/' + str(id) +'.tiff')\n",
        "    return img\n",
        "\n",
        "def load_msk(df, id):\n",
        "    row = df[df['id']==id]\n",
        "    msk = rle2mask(row['rle'][0], (row['img_height'][0], row['img_width'][0]))\n",
        "    return msk"
      ]
    },
    {
      "cell_type": "code",
      "source": [
        "test_path = '/content/DATA/test_images/10078.tiff'\n",
        "target = staintools.read_image(test_path)\n",
        "\n",
        "# Standardize brightness (optional, can improve the tissue mask calculation)\n",
        "target = staintools.LuminosityStandardizer.standardize(target)\n",
        "\n",
        "# Stain normalize\n",
        "normalizer = staintools.StainNormalizer(method='vahadane')\n",
        "normalizer.fit(target)\n",
        "\n",
        "def load_stain_img(id):\n",
        "    #img = tiff.imread('/content/DATA/train_images/' + str(id) +'.tiff')\n",
        "    to_transform = staintools.read_image('/content/DATA/train_images/' + str(id) +'.tiff')\n",
        "    to_transform = staintools.LuminosityStandardizer.standardize(to_transform)\n",
        "    transformed1 = normalizer.transform(to_transform)\n",
        "    return transformed1"
      ],
      "metadata": {
        "id": "mpp7eVEonzQM"
      },
      "execution_count": null,
      "outputs": []
    },
    {
      "cell_type": "markdown",
      "metadata": {
        "id": "Im6wJBIekywh"
      },
      "source": [
        "**---------- Data Processing ----------**"
      ]
    },
    {
      "cell_type": "code",
      "execution_count": null,
      "metadata": {
        "id": "5-5CQZDtk4Ld"
      },
      "outputs": [],
      "source": [
        "df = pd.read_csv('/content/DATA/train.csv')\n",
        "df.head()"
      ]
    },
    {
      "cell_type": "code",
      "source": [
        "df = df[df['organ'].isin(CFG['organs'])].reset_index(drop=True)\n",
        "df.head()"
      ],
      "metadata": {
        "id": "j98232cqbfal"
      },
      "execution_count": null,
      "outputs": []
    },
    {
      "cell_type": "code",
      "source": [
        "#df.info()"
      ],
      "metadata": {
        "id": "nGdR4L_JYnY7"
      },
      "execution_count": null,
      "outputs": []
    },
    {
      "cell_type": "code",
      "execution_count": null,
      "metadata": {
        "id": "nS8X1TDik_k2"
      },
      "outputs": [],
      "source": [
        "df_test = pd.read_csv('/content/DATA/test.csv')\n",
        "df_test.head()"
      ]
    },
    {
      "cell_type": "code",
      "source": [
        "train_path = '/content/DATA/train_images/' + str(df['id'].sample().iloc[-1]) + '.tiff'\n",
        "test_path = '/content/DATA/test_images/10078.tiff'\n",
        "train_img = tiff.imread(train_path)\n",
        "test_img = tiff.imread(test_path)\n",
        "\n",
        "to_transform = staintools.read_image(train_path)\n",
        "target = staintools.read_image(test_path)"
      ],
      "metadata": {
        "id": "7Pl3imgRgvtC"
      },
      "execution_count": null,
      "outputs": []
    },
    {
      "cell_type": "code",
      "source": [
        "%%time\n",
        "# Standardize brightness (optional, can improve the tissue mask calculation)\n",
        "target = staintools.LuminosityStandardizer.standardize(target)\n",
        "\n",
        "# Stain normalize\n",
        "normalizer = staintools.StainNormalizer(method='vahadane')\n",
        "normalizer.fit(target)"
      ],
      "metadata": {
        "id": "G04fN02Yk8Un"
      },
      "execution_count": null,
      "outputs": []
    },
    {
      "cell_type": "code",
      "source": [
        "%%time\n",
        "to_transform = staintools.LuminosityStandardizer.standardize(to_transform)\n",
        "transformed1 = normalizer.transform(to_transform)"
      ],
      "metadata": {
        "id": "U8LiLz3TmIHJ"
      },
      "execution_count": null,
      "outputs": []
    },
    {
      "cell_type": "code",
      "source": [
        "plt.figure(figsize=(20, 20))\n",
        "plt.subplot(131)\n",
        "plt.title(\"train\")\n",
        "plt.imshow(train_img)\n",
        "plt.subplot(132)\n",
        "plt.title('test')\n",
        "plt.imshow(test_img)\n",
        "plt.subplot(133)\n",
        "plt.title('stain')\n",
        "plt.imshow(transformed1)"
      ],
      "metadata": {
        "id": "zpDwfd_4j_Mf"
      },
      "execution_count": null,
      "outputs": []
    },
    {
      "cell_type": "code",
      "execution_count": null,
      "metadata": {
        "id": "NFtbJO0gl4_N"
      },
      "outputs": [],
      "source": [
        "skf = StratifiedKFold(n_splits=CFG['n_fold'], shuffle=True, random_state=CFG['seed'])\n",
        "for fold, (train_idx, val_idx) in enumerate(skf.split(df, df['organ'])):\n",
        "    df.loc[val_idx, 'fold'] = fold"
      ]
    },
    {
      "cell_type": "code",
      "execution_count": null,
      "metadata": {
        "id": "W7bx9wljQ_0F"
      },
      "outputs": [],
      "source": [
        "data_transforms = {\n",
        "    'train': A.Compose([\n",
        "        A.Resize(*CFG['img_size'], interpolation=cv2.INTER_NEAREST),\n",
        "        #A.HorizontalFlip(p=0.5),\n",
        "        #A.VerticalFlip(p=0.5),\n",
        "        #A.RandomRotate90(p=0.5),\n",
        "\n",
        "        #A.ShiftScaleRotate(shift_limit=0.0625, scale_limit=0.05, rotate_limit=10, p=0.5),\n",
        "        #A.OpticalDistortion(distort_limit=0.05, shift_limit=0.05, p=0.5),\n",
        "        #A.GridDistortion(num_steps=5, distort_limit=0.03, p=0.5),\n",
        "        #A.ElasticTransform(alpha=1, sigma=50, alpha_affine=50, p=0.5),\n",
        "        #A.OneOf([\n",
        "        #    A.GridDistortion(num_steps=5, distort_limit=0.05, p=1.0),\n",
        "        #    A.OpticalDistortion(distort_limit=0.05, shift_limit=0.05, p=1.0),\n",
        "        #    A.ElasticTransform(alpha=1, sigma=50, alpha_affine=50, p=1.0)\n",
        "        #], p=0.25),\n",
        "\n",
        "        #A.HueSaturationValue(hue_shift_limit=20, sat_shift_limit=30, val_shift_limit=20, p=1),#20,30,20 ランダムに色相、彩度、輝度を変える\n",
        "        #A.RandomGamma(gamma_limit=(60, 140), p=1),#80, 120 ランダムにガンマ変換をかける\n",
        "        #A.RandomBrightnessContrast(brightness_limit=0.2, contrast_limit=0.2, p=1),#0.2, 0.2, ランダムに明るさとコントラストを変える\n",
        "\n",
        "        #A.OpticalDistortion(distort_limit=0.5, shift_limit=0.5, p=1),#0.05 0.05 光学的な歪みを再現する\n",
        "        #A.GaussNoise(var_limit=(10.0, 200.0), p=1.0),#10.0 50.0\n",
        "        #A.MotionBlur(blur_limit=(3, 7), p=1.0),#3 7\n",
        "\n",
        "        #A.CoarseDropout(max_holes=8, max_height=CFG['img_size'][0]//20, max_width=CFG['img_size'][1]//20,\n",
        "        #                 min_holes=5, fill_value=0, mask_fill_value=0, p=0.5),\n",
        "        ], p=1.0),\n",
        "    \n",
        "    'valid': A.Compose([\n",
        "        A.Resize(*CFG['img_size'], interpolation=cv2.INTER_NEAREST),\n",
        "        ], p=1.0)\n",
        "}\n",
        "\n",
        "data_transforms_dict = {}\n",
        "for transform in data_transforms['train']:\n",
        "    s = str(transform)\n",
        "    data_transforms_dict['A_'+s[:s.find('(')]] = s[s.find('(')+1:-1]"
      ]
    },
    {
      "cell_type": "code",
      "execution_count": null,
      "metadata": {
        "id": "wa97gFkOqE-b"
      },
      "outputs": [],
      "source": [
        "class BuildDataset(torch.utils.data.Dataset):\n",
        "    def __init__(self, df, training_mode=True, transforms=None):\n",
        "        self.df             = df\n",
        "        self.training_mode  = training_mode\n",
        "        self.transforms     = transforms\n",
        "        \n",
        "    def __len__(self):\n",
        "        return len(self.df)\n",
        "    \n",
        "    def __getitem__(self, index):\n",
        "        img_id  = self.df.iloc[index]['id']\n",
        "        if CFG['stain']:\n",
        "            img = load_stain_img(img_id)\n",
        "        else:\n",
        "            img = load_img(img_id)\n",
        "        \n",
        "        if self.training_mode:\n",
        "            #msk = load_msk(self.df, img_id)\n",
        "            msk = rle2mask(self.df.iloc[index]['rle'], (self.df.iloc[index]['img_height'], self.df.iloc[index]['img_width']))\n",
        "            if self.transforms:\n",
        "                data = self.transforms(image=img, mask=msk)\n",
        "                img  = data['image']\n",
        "                msk  = data['mask']\n",
        "            img = np.transpose(img, (2, 0, 1))\n",
        "            #msk = np.transpose(msk, (2, 0, 1))\n",
        "            msk = np.expand_dims(msk, 0)\n",
        "            return torch.tensor(img), torch.tensor(msk)\n",
        "        else:\n",
        "            if self.transforms:\n",
        "                data = self.transforms(image=img)\n",
        "                img  = data['image']\n",
        "            img = np.transpose(img, (2, 0, 1))\n",
        "            return torch.tensor(img)"
      ]
    },
    {
      "cell_type": "code",
      "execution_count": null,
      "metadata": {
        "id": "qXS0mtX9SoDc"
      },
      "outputs": [],
      "source": [
        "def prepare_loaders(fold, debug=False):\n",
        "    train_df = df.query('fold!=@fold').reset_index(drop=True)\n",
        "    valid_df = df.query('fold==@fold').reset_index(drop=True)\n",
        "    if debug:\n",
        "        train_df = train_df.head(8)\n",
        "        valid_df = valid_df.head(8)\n",
        "    train_dataset = BuildDataset(train_df, transforms=data_transforms['train'])\n",
        "    valid_dataset = BuildDataset(valid_df, transforms=data_transforms['valid'])\n",
        "\n",
        "    train_loader = DataLoader(train_dataset, batch_size=CFG['train_bs'] if not debug else 8, \n",
        "                              num_workers=os.cpu_count(), shuffle=True, pin_memory=True, drop_last=False)\n",
        "    valid_loader = DataLoader(valid_dataset, batch_size=CFG['valid_bs'] if not debug else 8, \n",
        "                              num_workers=os.cpu_count(), shuffle=False, pin_memory=True)\n",
        "    \n",
        "    return train_loader, valid_loader"
      ]
    },
    {
      "cell_type": "code",
      "execution_count": null,
      "metadata": {
        "id": "p9TILzmuS1PC"
      },
      "outputs": [],
      "source": [
        "train_loader, valid_loader = prepare_loaders(fold=0, debug=True)"
      ]
    },
    {
      "cell_type": "code",
      "execution_count": null,
      "metadata": {
        "id": "YPKgTfLHS4nl"
      },
      "outputs": [],
      "source": [
        "imgs, msks = next(iter(train_loader))\n",
        "imgs.size(), msks.size()"
      ]
    },
    {
      "cell_type": "markdown",
      "metadata": {
        "id": "UPgIWnaZTH9r"
      },
      "source": [
        "**---------- Model ----------**"
      ]
    },
    {
      "cell_type": "code",
      "execution_count": null,
      "metadata": {
        "id": "fSfwi026THMC"
      },
      "outputs": [],
      "source": [
        "import segmentation_models_pytorch as smp\n",
        "\n",
        "def build_model():\n",
        "    if CFG['backbone']=='UnetPlusPlus':\n",
        "        model = smp.UnetPlusPlus(\n",
        "            encoder_name=CFG['backbone'],      # choose encoder, e.g. mobilenet_v2 or efficientnet-b7\n",
        "            encoder_weights=CFG['encoder_weights'],\n",
        "            in_channels=CFG['in_channels'],\n",
        "            classes=CFG['num_classes'],        # model output channels (number of classes in your dataset)\n",
        "            activation=None,\n",
        "        )\n",
        "    else:\n",
        "        model = smp.Unet(\n",
        "            encoder_name=CFG['backbone'],      # choose encoder, e.g. mobilenet_v2 or efficientnet-b7\n",
        "            encoder_weights=CFG['encoder_weights'],\n",
        "            in_channels=CFG['in_channels'],\n",
        "            classes=CFG['num_classes'],        # model output channels (number of classes in your dataset)\n",
        "            activation=None,\n",
        "        )\n",
        "    \n",
        "    model.to(CFG['device'])\n",
        "    return model\n",
        "\n",
        "def load_model(path):\n",
        "    model = build_model()\n",
        "    model.load_state_dict(torch.load(path))\n",
        "    model.eval()\n",
        "    return model"
      ]
    },
    {
      "cell_type": "code",
      "execution_count": null,
      "metadata": {
        "id": "0bhW0rSHVaQi"
      },
      "outputs": [],
      "source": [
        "loss_def ={\n",
        "    'JaccardLoss'   : None,\n",
        "    'DiceLoss'      : 1.0,\n",
        "    'BCELoss'       : None,\n",
        "    'LovaszLoss'    : None,\n",
        "    'TverskyLoss'   : None,\n",
        "    'FocalLoss'     : None,\n",
        "}\n",
        "\n",
        "CFG['loss'] = loss_def\n",
        "\n",
        "JaccardLoss = smp.losses.JaccardLoss(mode='multilabel')\n",
        "DiceLoss    = smp.losses.DiceLoss(mode='multilabel')\n",
        "BCELoss     = smp.losses.SoftBCEWithLogitsLoss()\n",
        "LovaszLoss  = smp.losses.LovaszLoss(mode='multilabel', per_image=False)\n",
        "TverskyLoss = smp.losses.TverskyLoss(mode='multilabel', log_loss=False)\n",
        "FocalLoss = smp.losses.FocalLoss(mode=\"multilabel\")\n",
        "\n",
        "def dice_coef(y_true, y_pred, thr=0.5, dim=(2,3), epsilon=0.001):\n",
        "    y_true = y_true.to(torch.float32)\n",
        "    y_pred = (y_pred>thr).to(torch.float32)\n",
        "    inter = (y_true*y_pred).sum(dim=dim)\n",
        "    den = y_true.sum(dim=dim) + y_pred.sum(dim=dim)\n",
        "    dice = ((2*inter+epsilon)/(den+epsilon)).mean(dim=(1,0))\n",
        "    return dice\n",
        "\n",
        "def iou_coef(y_true, y_pred, thr=0.5, dim=(2,3), epsilon=0.001):\n",
        "    y_true = y_true.to(torch.float32)\n",
        "    y_pred = (y_pred>thr).to(torch.float32)\n",
        "    inter = (y_true*y_pred).sum(dim=dim)\n",
        "    union = (y_true + y_pred - y_true*y_pred).sum(dim=dim)\n",
        "    iou = ((inter+epsilon)/(union+epsilon)).mean(dim=(1,0))\n",
        "    return iou\n",
        "\n",
        "def criterion(y_pred, y_true):\n",
        "    loss = 0\n",
        "    for k, v in loss_def.items():\n",
        "        if v != None:\n",
        "            if k == 'JaccardLoss':\n",
        "                loss += v*JaccardLoss(y_pred, y_true)\n",
        "            elif k == 'DiceLoss':\n",
        "                loss += v*DiceLoss(y_pred, y_true)\n",
        "            elif k == 'BCELoss':\n",
        "                loss += v*BCELoss(y_pred, y_true)\n",
        "            elif k == 'LovaszLoss':\n",
        "                loss += v*LovaszLoss(y_pred, y_true)\n",
        "            elif k == 'TverskyLoss':\n",
        "                loss += v*TverskyLoss(y_pred, y_true)\n",
        "            elif k == 'FocalLoss':\n",
        "                loss += v*FocalLoss(y_pred, y_true)\n",
        "\n",
        "    return loss\n",
        "\n",
        "#def criterion(y_pred, y_true):\n",
        "#    return 0.5*BCELoss(y_pred, y_true) + 0.5*TverskyLoss(y_pred, y_true)"
      ]
    },
    {
      "cell_type": "markdown",
      "metadata": {
        "id": "rLh1YvP1eMaA"
      },
      "source": [
        "**---------- Learning ----------**"
      ]
    },
    {
      "cell_type": "code",
      "execution_count": null,
      "metadata": {
        "id": "gAyOgq_OeQjR"
      },
      "outputs": [],
      "source": [
        "gc.collect()"
      ]
    },
    {
      "cell_type": "code",
      "execution_count": null,
      "metadata": {
        "id": "nyIqG3CBeayn"
      },
      "outputs": [],
      "source": [
        "from timm.scheduler import CosineLRScheduler\n",
        "def fetch_scheduler(optimizer):\n",
        "    if CFG[\"scheduler\"] == 'CosineAnnealingLR':\n",
        "        scheduler = lr_scheduler.CosineAnnealingLR(optimizer,T_max=CFG[\"T_max\"], \n",
        "                                                   eta_min=CFG[\"min_lr\"])\n",
        "    elif CFG[\"scheduler\"] == 'CosineAnnealingWarmRestarts':\n",
        "        scheduler = lr_scheduler.CosineAnnealingWarmRestarts(optimizer,T_0=CFG[\"T_0\"], \n",
        "                                                             eta_min=CFG[\"min_lr\"])\n",
        "    elif CFG[\"scheduler\"] == 'ReduceLROnPlateau':\n",
        "        scheduler = lr_scheduler.ReduceLROnPlateau(optimizer,\n",
        "                                                   mode='min',\n",
        "                                                   factor=0.1,\n",
        "                                                   patience=7,\n",
        "                                                   threshold=0.0001,\n",
        "                                                   min_lr=CFG[\"min_lr\"],)\n",
        "    elif CFG[\"scheduler\"] == 'ExponentialLR':\n",
        "        scheduler = lr_scheduler.ExponentialLR(optimizer, gamma=0.85)\n",
        "    elif CFG[\"scheduler\"] == 'CosineLRScheduler':\n",
        "        scheduler = CosineLRScheduler(optimizer, t_initial=CFG[\"epochs\"], lr_min=1e-4, \n",
        "                                      warmup_t=round(CFG[\"epochs\"]*0.2), warmup_lr_init=5e-5, warmup_prefix=True)\n",
        "    elif CFG[\"scheduler\"] == None:\n",
        "        return None\n",
        "        \n",
        "    return scheduler"
      ]
    },
    {
      "cell_type": "code",
      "execution_count": null,
      "metadata": {
        "id": "7KPSwOrSedKR"
      },
      "outputs": [],
      "source": [
        "model = torch.nn.Linear(1, 1) ## 適当なモデル\n",
        "optimizer = torch.optim.Adam(model.parameters())\n",
        "\n",
        "scheduler = fetch_scheduler(optimizer)\n",
        "\n",
        "lrs = []\n",
        "for i in range(CFG[\"epochs\"]):\n",
        "    #lrs.append(scheduler.get_epoch_values(i))\n",
        "    lrs.append(optimizer.param_groups[0]['lr'])\n",
        "    if CFG[\"scheduler\"] == 'CosineLRScheduler':\n",
        "        scheduler.step(i+1)\n",
        "    else:\n",
        "        scheduler.step()\n",
        "\n",
        "plt.plot(lrs)\n",
        "plt.show()"
      ]
    },
    {
      "cell_type": "code",
      "execution_count": null,
      "metadata": {
        "id": "Lwxb9pHIeg9l"
      },
      "outputs": [],
      "source": [
        "def train_one_epoch(model, optimizer, scheduler, dataloader, device, epoch):\n",
        "    model.train()\n",
        "    scaler = amp.GradScaler()\n",
        "    \n",
        "    dataset_size = 0\n",
        "    running_loss = 0.0\n",
        "    \n",
        "    pbar = tqdm(enumerate(dataloader), total=len(dataloader), desc='Train ')\n",
        "    for step, (images, masks) in pbar:         \n",
        "        images = images.to(device, dtype=torch.float)\n",
        "        masks  = masks.to(device, dtype=torch.float)\n",
        "        \n",
        "        batch_size = images.size(0)\n",
        "        \n",
        "        with amp.autocast(enabled=True):\n",
        "            y_pred = model(images)\n",
        "            loss   = criterion(y_pred, masks)\n",
        "            loss   = loss / CFG[\"n_accumulate\"]\n",
        "            \n",
        "        scaler.scale(loss).backward()\n",
        "    \n",
        "        if (step + 1) % CFG[\"n_accumulate\"] == 0:\n",
        "            scaler.step(optimizer)\n",
        "            scaler.update()\n",
        "\n",
        "            # zero the parameter gradients\n",
        "            optimizer.zero_grad()\n",
        "\n",
        "            if scheduler is not None:\n",
        "                if CFG[\"scheduler\"] == 'CosineLRScheduler':\n",
        "                    pass\n",
        "                else:\n",
        "                    scheduler.step()\n",
        "                \n",
        "        running_loss += (loss.item() * batch_size)\n",
        "        dataset_size += batch_size\n",
        "        \n",
        "        epoch_loss = running_loss / dataset_size\n",
        "        \n",
        "        mem = torch.cuda.memory_reserved() / 1E9 if torch.cuda.is_available() else 0\n",
        "        current_lr = optimizer.param_groups[0]['lr']\n",
        "        pbar.set_postfix(train_loss=f'{epoch_loss:0.4f}',\n",
        "                        lr=f'{current_lr:0.5f}',\n",
        "                        gpu_mem=f'{mem:0.2f} GB')\n",
        "    torch.cuda.empty_cache()\n",
        "    gc.collect()\n",
        "    \n",
        "    return epoch_loss"
      ]
    },
    {
      "cell_type": "code",
      "execution_count": null,
      "metadata": {
        "id": "deicGBRVe096"
      },
      "outputs": [],
      "source": [
        "@torch.no_grad()\n",
        "def valid_one_epoch(model, dataloader, device, epoch):\n",
        "    model.eval()\n",
        "    \n",
        "    dataset_size = 0\n",
        "    running_loss = 0.0\n",
        "    \n",
        "    val_scores = []\n",
        "    \n",
        "    pbar = tqdm(enumerate(dataloader), total=len(dataloader), desc='Valid ')\n",
        "    for step, (images, masks) in pbar:        \n",
        "        images  = images.to(device, dtype=torch.float)\n",
        "        masks   = masks.to(device, dtype=torch.float)\n",
        "        \n",
        "        batch_size = images.size(0)\n",
        "        \n",
        "        y_pred  = model(images)\n",
        "        loss    = criterion(y_pred, masks)\n",
        "        \n",
        "        running_loss += (loss.item() * batch_size)\n",
        "        dataset_size += batch_size\n",
        "        \n",
        "        epoch_loss = running_loss / dataset_size\n",
        "        \n",
        "        y_pred = nn.Sigmoid()(y_pred)\n",
        "        val_dice = dice_coef(masks, y_pred).cpu().detach().numpy()\n",
        "        val_jaccard = iou_coef(masks, y_pred).cpu().detach().numpy()\n",
        "        val_scores.append([val_dice, val_jaccard])\n",
        "        \n",
        "        mem = torch.cuda.memory_reserved() / 1E9 if torch.cuda.is_available() else 0\n",
        "        current_lr = optimizer.param_groups[0]['lr']\n",
        "        pbar.set_postfix(valid_loss=f'{epoch_loss:0.4f}',\n",
        "                        lr=f'{current_lr:0.5f}',\n",
        "                        gpu_memory=f'{mem:0.2f} GB')\n",
        "    val_scores  = np.mean(val_scores, axis=0)\n",
        "    torch.cuda.empty_cache()\n",
        "    gc.collect()\n",
        "    \n",
        "    return epoch_loss, val_scores"
      ]
    },
    {
      "cell_type": "code",
      "execution_count": null,
      "metadata": {
        "id": "S03zOpKUfGxt"
      },
      "outputs": [],
      "source": [
        "def run_training(model, optimizer, scheduler, device, num_epochs):\n",
        "    # To automatically log gradients\n",
        "    wandb.watch(model, log_freq=100)\n",
        "    \n",
        "    start = time.time()\n",
        "    best_model_wts = copy.deepcopy(model.state_dict())\n",
        "    best_dice      = -np.inf\n",
        "    best_epoch     = -1\n",
        "    history = defaultdict(list)\n",
        "    \n",
        "    for epoch in range(1, num_epochs + 1): \n",
        "        gc.collect()\n",
        "        print(f'Epoch {epoch}/{num_epochs}', end='\\n')\n",
        "        #print()\n",
        "        train_loss = train_one_epoch(model, optimizer, scheduler, \n",
        "                                           dataloader=train_loader, \n",
        "                                           device=CFG[\"device\"], epoch=epoch)\n",
        "        \n",
        "        val_loss, val_scores = valid_one_epoch(model, valid_loader, \n",
        "                                                 device=CFG[\"device\"], \n",
        "                                                 epoch=epoch)\n",
        "        val_dice, val_jaccard = val_scores\n",
        "    \n",
        "        history['Train Loss'].append(train_loss)\n",
        "        history['Valid Loss'].append(val_loss)\n",
        "        history['Valid Dice'].append(val_dice)\n",
        "        history['Valid Jaccard'].append(val_jaccard)\n",
        "        \n",
        "        # Log the metrics\n",
        "        wandb.log({\"Train Loss\": train_loss, \n",
        "                   \"Valid Loss\": val_loss,\n",
        "                   \"Valid Dice\": val_dice,\n",
        "                   \"Valid Jaccard\": val_jaccard,\n",
        "                   \"LR\":optimizer.param_groups[0]['lr']})\n",
        "                   #\"LR\":scheduler.get_last_lr()[0]})\n",
        "        \n",
        "        print(f\"{b_}Valid Dice: {val_dice:0.4f} | Valid Jaccard: {val_jaccard:0.4f}{sr_}\")\n",
        "        \n",
        "        # deep copy the model\n",
        "        if val_dice >= best_dice:\n",
        "            print(f\"{r_}Valid Score Improved ({best_dice:0.4f} ---> {val_dice:0.4f})\")\n",
        "            best_dice    = val_dice\n",
        "            best_jaccard = val_jaccard\n",
        "            best_epoch   = epoch\n",
        "            run.summary[\"Best Dice\"]    = best_dice\n",
        "            run.summary[\"Best Jaccard\"] = best_jaccard\n",
        "            run.summary[\"Best Epoch\"]   = best_epoch\n",
        "            best_model_wts = copy.deepcopy(model.state_dict())\n",
        "            #PATH = f\"best_epoch-{fold:02d}.bin\"\n",
        "            PATH = f\"/content/OUTPUT/MODEL/best_epoch-{fold:02d}.bin\"\n",
        "            torch.save(model.state_dict(), PATH)\n",
        "            # Save a model file from the current directory\n",
        "            wandb.save(PATH, base_path=\"/content/OUTPUT/MODEL\")\n",
        "            print(f\"Model Saved{sr_}\")\n",
        "\n",
        "        if CFG[\"scheduler\"] == 'CosineLRScheduler':\n",
        "            scheduler.step(epoch+1)\n",
        "            \n",
        "        last_model_wts = copy.deepcopy(model.state_dict())\n",
        "        #PATH = f\"last_epoch-{fold:02d}.bin\"\n",
        "        PATH = f\"/content/OUTPUT/MODEL/last_epoch-{fold:02d}.bin\"\n",
        "        torch.save(model.state_dict(), PATH)\n",
        "            \n",
        "        print()\n",
        "\n",
        "    with open(\"/content/OUTPUT/CFG.pickle\", 'wb') as f:\n",
        "        pickle.dump(CFG, f)\n",
        "    wandb.save(\"/content/OUTPUT/CFG.pickle\")\n",
        "    \n",
        "    end = time.time()\n",
        "    time_elapsed = end - start\n",
        "    print('Training complete in {:.0f}h {:.0f}m {:.0f}s'.format(\n",
        "        time_elapsed // 3600, (time_elapsed % 3600) // 60, (time_elapsed % 3600) % 60))\n",
        "    print(\"Best Score: {:.4f}\".format(best_jaccard))\n",
        "    \n",
        "    # load best model weights\n",
        "    model.load_state_dict(best_model_wts)\n",
        "    \n",
        "    return model, history"
      ]
    },
    {
      "cell_type": "code",
      "execution_count": null,
      "metadata": {
        "id": "pJimn6RMgo0R"
      },
      "outputs": [],
      "source": [
        "model = build_model()\n",
        "optimizer = optim.Adam(model.parameters(), lr=CFG[\"lr\"], weight_decay=CFG[\"wd\"])\n",
        "scheduler = fetch_scheduler(optimizer)"
      ]
    },
    {
      "cell_type": "code",
      "execution_count": null,
      "metadata": {
        "id": "Ub7OkHtFgsWQ"
      },
      "outputs": [],
      "source": [
        "if torch.cuda.is_available():\n",
        "    print(\"cuda: {}\\n\".format(torch.cuda.get_device_name()))\n",
        "    CFG['device'] = torch.cuda.get_device_name()\n",
        "\n",
        "#config = {k:v for k, v in dict(vars(CFG)).items() if '__' not in k}\n",
        "#config.update(data_transforms_dict)\n",
        "CFG.update(data_transforms_dict)\n",
        "\n",
        "#n_fold = 1 if CFG[\"debug\"] else CFG[\"n_fold\"]\n",
        "#n_fold = 2 #CFG[\"n_fold\"]\n",
        "\n",
        "for fold in range(CFG[\"n_fold\"]):\n",
        "    print(f'#'*15)\n",
        "    print(f'### Fold: {fold}')\n",
        "    print(f'#'*15)\n",
        "    if fold in CFG['learning_fold']:\n",
        "        run = wandb.init(project='Hacking_the_Human_Body', \n",
        "                        group=run_start_time,\n",
        "                        name=f\"fold-{fold}\",\n",
        "                        config=CFG,\n",
        "                        #anonymous=anonymous,\n",
        "                        tags=CFG[\"tags\"],\n",
        "                        )\n",
        "        train_loader, valid_loader = prepare_loaders(fold=fold, debug=CFG[\"debug\"])\n",
        "        model     = build_model()\n",
        "        optimizer = optim.Adam(model.parameters(), lr=CFG[\"lr\"], weight_decay=CFG[\"wd\"])\n",
        "        scheduler = fetch_scheduler(optimizer)\n",
        "        model, history = run_training(model, optimizer, scheduler,\n",
        "                                    device=CFG[\"device\"],\n",
        "                                    num_epochs=CFG[\"epochs\"])\n",
        "        #run.finish()\n",
        "        display(ipd.IFrame(run.url, width=1000, height=720))"
      ]
    },
    {
      "cell_type": "code",
      "execution_count": null,
      "metadata": {
        "id": "DoJccq92pUE4"
      },
      "outputs": [],
      "source": [
        "def pred_each_situation(df):\n",
        "    results_for_each_data = []\n",
        "    for fold in range(CFG[\"n_fold\"]):\n",
        "        if fold in CFG['learning_fold']:\n",
        "            test_df = df.query(\"fold==@fold\").reset_index(drop=True)\n",
        "            test_dataset = BuildDataset(test_df, transforms=data_transforms['valid'])\n",
        "            test_loader = DataLoader(test_dataset, batch_size=1, num_workers=os.cpu_count(), shuffle=False, pin_memory=True)\n",
        "\n",
        "            model = load_model(f\"/content/OUTPUT/MODEL/best_epoch-{fold:02d}.bin\")\n",
        "            pbar = tqdm(enumerate(test_loader), total=len(test_loader), desc='Test ')\n",
        "            for step, (images, masks) in pbar:\n",
        "                image  = images.to(CFG[\"device\"], dtype=torch.float)\n",
        "                mask   = masks.to(CFG[\"device\"], dtype=torch.float)\n",
        "                \n",
        "                y_pred  = model(image)\n",
        "                #y_pred = nn.Sigmoid()(y_pred)\n",
        "                y_pred = (nn.Sigmoid()(y_pred)>0.5).double()\n",
        "                val_dice = dice_coef(mask, y_pred).cpu().detach().numpy()\n",
        "                val_jaccard = iou_coef(mask, y_pred).cpu().detach().numpy()\n",
        "                results_for_each_data.append([val_dice, val_jaccard, image.cpu().detach().numpy(), mask.cpu().detach().numpy(), y_pred.cpu().detach().numpy()])\n",
        "                gc.collect()\n",
        "\n",
        "    for i in range(len(results_for_each_data)-1):\n",
        "        for j in range(i+1, len(results_for_each_data)):\n",
        "            if results_for_each_data[i][0] < results_for_each_data[j][0]:\n",
        "                tmp = copy.deepcopy(results_for_each_data[i])\n",
        "                results_for_each_data[i] = copy.deepcopy(results_for_each_data[j])\n",
        "                results_for_each_data[j] = copy.deepcopy(tmp)\n",
        "        \n",
        "    return results_for_each_data"
      ]
    },
    {
      "cell_type": "code",
      "execution_count": null,
      "metadata": {
        "id": "xmKpdc8DrP0b"
      },
      "outputs": [],
      "source": [
        "def plot_imgs_msks_preds(results_for_each_data, filename):\n",
        "    fig = plt.figure(figsize=(5*5, 15*3))\n",
        "\n",
        "    if len(results_for_each_data)<5:\n",
        "        image_num = len(results_for_each_data)\n",
        "    else:\n",
        "        image_num = 5\n",
        "\n",
        "    for idx in range(image_num):\n",
        "        ax1 = fig.add_subplot(5, 3, (idx*3)+1)\n",
        "        #img = np.transpose(results_for_each_data[idx][2][0], (1, 2, 0))*255.0\n",
        "        img = np.transpose(results_for_each_data[idx][2][0], (1, 2, 0))\n",
        "        img = img.astype('uint8')\n",
        "        ax1.set_title('image')\n",
        "        #ax1.imshow(img[...,0], cmap='bone')\n",
        "        ax1.imshow(img)\n",
        "\n",
        "        ax2 = fig.add_subplot(5, 3, (idx*3)+2)\n",
        "        #msk = np.transpose(results_for_each_data[idx][3][0], (1, 2, 0))*255.0\n",
        "        msk = np.transpose(results_for_each_data[idx][3][0], (1, 2, 0))\n",
        "        msk = msk.astype('uint8')\n",
        "        ax2.set_title('mask')\n",
        "        #ax2.legend(handles,labels)\n",
        "        #ax2.imshow(msk, cmap='bone')\n",
        "        ax2.imshow(img)\n",
        "        ax2.imshow(msk[...,0], cmap='coolwarm', alpha=0.5)\n",
        "\n",
        "        ax3 = fig.add_subplot(5, 3, (idx*3)+3)\n",
        "        #pred = np.transpose(results_for_each_data[idx][4][0], (1, 2, 0))*255.0\n",
        "        pred = np.transpose(results_for_each_data[idx][4][0], (1, 2, 0))\n",
        "        #pred = results_for_each_data[idx][4][0]\n",
        "        pred = pred.astype('uint8')\n",
        "        ax3.set_title('pred='+str(results_for_each_data[idx][0]))\n",
        "        #ax3.legend(handles,labels)\n",
        "        #ax3.imshow(pred, cmap='bone')\n",
        "        ax3.imshow(img)\n",
        "        ax3.imshow(pred[...,0], cmap='coolwarm', alpha=0.5)\n",
        "\n",
        "    fig.tight_layout()\n",
        "    fig.show()\n",
        "    file_pass = \"/content/OUTPUT/\"+filename\n",
        "    fig.savefig(file_pass)\n",
        "    wandb.save(file_pass)"
      ]
    },
    {
      "cell_type": "code",
      "execution_count": null,
      "metadata": {
        "id": "0rZWjGCkrB77"
      },
      "outputs": [],
      "source": [
        "%%time\n",
        "if not CFG[\"debug\"]:\n",
        "    prostate = pred_each_situation(df.query('organ==\"prostate\"').reset_index(drop=True))\n",
        "    spleen = pred_each_situation(df.query('organ==\"spleen\"').reset_index(drop=True))\n",
        "    lung = pred_each_situation(df.query('organ==\"lung\"').reset_index(drop=True))\n",
        "    kidney = pred_each_situation(df.query('organ==\"kidney\"').reset_index(drop=True))\n",
        "    largeintestine\t = pred_each_situation(df.query('organ==\"largeintestine\"').reset_index(drop=True))"
      ]
    },
    {
      "cell_type": "code",
      "execution_count": null,
      "metadata": {
        "colab": {
          "background_save": true
        },
        "id": "qQyuaBdws0sc"
      },
      "outputs": [],
      "source": [
        "if not CFG[\"debug\"]:\n",
        "    plot_imgs_msks_preds(prostate[:5],\"prostate_best.png\")"
      ]
    },
    {
      "cell_type": "code",
      "execution_count": null,
      "metadata": {
        "colab": {
          "background_save": true
        },
        "id": "-bahJXiMx9Dw"
      },
      "outputs": [],
      "source": [
        "if not CFG[\"debug\"]:\n",
        "    plot_imgs_msks_preds(prostate[-5:],\"prostate_worst.png\")"
      ]
    },
    {
      "cell_type": "code",
      "execution_count": null,
      "metadata": {
        "colab": {
          "background_save": true
        },
        "id": "yqeZE8wTynLN"
      },
      "outputs": [],
      "source": [
        "if not CFG[\"debug\"]:\n",
        "    plot_imgs_msks_preds(spleen[:5],\"spleen_best.png\")"
      ]
    },
    {
      "cell_type": "code",
      "execution_count": null,
      "metadata": {
        "colab": {
          "background_save": true
        },
        "id": "udo5XlzqynLO"
      },
      "outputs": [],
      "source": [
        "if not CFG[\"debug\"]:\n",
        "    plot_imgs_msks_preds(spleen[-5:],\"spleen_worst.png\")"
      ]
    },
    {
      "cell_type": "code",
      "execution_count": null,
      "metadata": {
        "colab": {
          "background_save": true
        },
        "id": "zJtmFQB-yn-5"
      },
      "outputs": [],
      "source": [
        "if not CFG[\"debug\"]:\n",
        "    plot_imgs_msks_preds(lung[:5],\"lung_best.png\")"
      ]
    },
    {
      "cell_type": "code",
      "execution_count": null,
      "metadata": {
        "colab": {
          "background_save": true
        },
        "id": "7_T-DUb8yn-5"
      },
      "outputs": [],
      "source": [
        "if not CFG[\"debug\"]:\n",
        "    plot_imgs_msks_preds(lung[-5:],\"lung_worst.png\")"
      ]
    },
    {
      "cell_type": "code",
      "execution_count": null,
      "metadata": {
        "colab": {
          "background_save": true
        },
        "id": "_14enDg5yovS"
      },
      "outputs": [],
      "source": [
        "if not CFG[\"debug\"]:\n",
        "    plot_imgs_msks_preds(kidney[:5],\"kidney_best.png\")"
      ]
    },
    {
      "cell_type": "code",
      "execution_count": null,
      "metadata": {
        "colab": {
          "background_save": true
        },
        "id": "NrpbXbWqyovS"
      },
      "outputs": [],
      "source": [
        "if not CFG[\"debug\"]:\n",
        "    plot_imgs_msks_preds(kidney[-5:],\"kidney_worst.png\")"
      ]
    },
    {
      "cell_type": "code",
      "execution_count": null,
      "metadata": {
        "colab": {
          "background_save": true
        },
        "id": "cKQpwuKWyqv3"
      },
      "outputs": [],
      "source": [
        "if not CFG[\"debug\"]:\n",
        "    plot_imgs_msks_preds(largeintestine[:5],\"largeintestine_best.png\")"
      ]
    },
    {
      "cell_type": "code",
      "execution_count": null,
      "metadata": {
        "colab": {
          "background_save": true
        },
        "id": "nY4Y1krkyqv4"
      },
      "outputs": [],
      "source": [
        "if not CFG[\"debug\"]:\n",
        "    plot_imgs_msks_preds(largeintestine[-5:],\"largeintestine_worst.png\")"
      ]
    },
    {
      "cell_type": "code",
      "execution_count": null,
      "metadata": {
        "colab": {
          "background_save": true
        },
        "id": "88ONGCI7z28v"
      },
      "outputs": [],
      "source": [
        "run.finish()"
      ]
    },
    {
      "cell_type": "code",
      "execution_count": null,
      "metadata": {
        "colab": {
          "background_save": true
        },
        "id": "5wRG196m0UoN"
      },
      "outputs": [],
      "source": [
        "wandb_url = run.url\n",
        "with open('/content/OUTPUT/wandb_url.txt', 'w') as f:\n",
        "    f.write(wandb_url)"
      ]
    },
    {
      "cell_type": "code",
      "execution_count": null,
      "metadata": {
        "colab": {
          "background_save": true
        },
        "id": "Toosi2ME0X07"
      },
      "outputs": [],
      "source": [
        "LOG_PATH = '/content/drive/MyDrive/Kaggle/202207_Hacking_the_Human_Body/Result/' +  run_start_time\n",
        "!mkdir $LOG_PATH\n",
        "#!cp /content/log.log $LOG_PATH\n",
        "#!cp -r /content/TEST $LOG_PATH\n",
        "#!cp -r /content/OOF $LOG_PATH\n",
        "#!cp -r /content/DATA $LOG_PATH\n",
        "!cp -r /content/OUTPUT $LOG_PATH"
      ]
    }
  ],
  "metadata": {
    "accelerator": "GPU",
    "colab": {
      "collapsed_sections": [],
      "machine_shape": "hm",
      "name": "Hacking_the_Human_Body_0",
      "provenance": [],
      "mount_file_id": "1Kp3j6Z0mrrVViWOQbS_K6v2CEyb3w5hO",
      "authorship_tag": "ABX9TyPUA6J+0O1f3L+wns9T3bhZ",
      "include_colab_link": true
    },
    "gpuClass": "standard",
    "kernelspec": {
      "display_name": "Python 3",
      "name": "python3"
    },
    "language_info": {
      "name": "python"
    }
  },
  "nbformat": 4,
  "nbformat_minor": 0
}